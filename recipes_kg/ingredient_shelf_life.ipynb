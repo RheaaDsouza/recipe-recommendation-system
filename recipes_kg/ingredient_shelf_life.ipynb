{
 "cells": [
  {
   "cell_type": "code",
   "execution_count": 1,
   "metadata": {},
   "outputs": [],
   "source": [
    "import pandas as pd"
   ]
  },
  {
   "cell_type": "code",
   "execution_count": 3,
   "metadata": {},
   "outputs": [
    {
     "name": "stdout",
     "output_type": "stream",
     "text": [
      "CSV generated: foodkeeper_shelf_life_processed.csv\n",
      "Total products processed: 249\n"
     ]
    }
   ],
   "source": [
    "import json\n",
    "import csv\n",
    "from datetime import datetime\n",
    "\n",
    "# Load JSON file\n",
    "with open('./data/foodkeeper.json', 'r', encoding='utf-8') as file:\n",
    "    data = json.load(file)\n",
    "\n",
    "# Extract Categories (ID → Name mapping)\n",
    "categories = {}\n",
    "for sheet in data['sheets']:\n",
    "    if sheet['name'] == 'Category':\n",
    "        for row in sheet['data']:\n",
    "            category_id = row[0]['ID']\n",
    "            category_name = row[1]['Category_Name']\n",
    "            categories[category_id] = category_name\n",
    "        break\n",
    "\n",
    "# Extract Product data\n",
    "products = []\n",
    "for sheet in data['sheets']:\n",
    "    if sheet['name'] == 'Product':\n",
    "        for row in sheet['data']:\n",
    "            product = {}\n",
    "            for field in row:\n",
    "                key = list(field.keys())[0]\n",
    "                product[key] = field[key]\n",
    "            \n",
    "            # Skip if no name\n",
    "            if 'Name' not in product:\n",
    "                continue\n",
    "            \n",
    "            # Get category name\n",
    "            category_id = product.get('Category_ID')\n",
    "            category = categories.get(category_id, \"Unknown\")\n",
    "            \n",
    "            # Determine shelf life (prioritize Pantry → Refrigerate → Freeze)\n",
    "            shelf_life = None\n",
    "            metric = None\n",
    "            \n",
    "            # Check Pantry first\n",
    "            if product.get('Pantry_Min') is not None:\n",
    "                shelf_life = f\"{product['Pantry_Min']}-{product['Pantry_Max']} {product['Pantry_Metric']} (Pantry)\"\n",
    "            # Else check Refrigerator\n",
    "            elif product.get('Refrigerate_Min') is not None:\n",
    "                shelf_life = f\"{product['Refrigerate_Min']}-{product['Refrigerate_Max']} {product['Refrigerate_Metric']} (Refrigerator)\"\n",
    "            # Else check Freezer\n",
    "            elif product.get('Freeze_Min') is not None:\n",
    "                shelf_life = f\"{product['Freeze_Min']}-{product['Freeze_Max']} {product['Freeze_Metric']} (Freezer)\"\n",
    "            \n",
    "            # Skip if no shelf life data\n",
    "            if not shelf_life:\n",
    "                continue\n",
    "            \n",
    "            # Add to products list\n",
    "            products.append({\n",
    "                'Name': product['Name'],\n",
    "                'Category': category,\n",
    "                'Shelf_Life': shelf_life,\n",
    "            })\n",
    "        break\n",
    "\n",
    "output_filename = f\"./data_processed/foodkeeper_shelf_life_processed.csv\"\n",
    "\n",
    "# Write to CSV\n",
    "with open(output_filename, 'w', newline='', encoding='utf-8') as csvfile:\n",
    "    writer = csv.DictWriter(csvfile, fieldnames=['Name', 'Category', 'Shelf_Life'])\n",
    "    writer.writeheader()\n",
    "    writer.writerows(products)\n",
    "\n",
    "print(f\"CSV generated: {output_filename}\")\n",
    "print(f\"Total products processed: {len(products)}\")"
   ]
  }
 ],
 "metadata": {
  "kernelspec": {
   "display_name": "Python 3.11.5 ('.myenv': venv)",
   "language": "python",
   "name": "python3"
  },
  "language_info": {
   "codemirror_mode": {
    "name": "ipython",
    "version": 3
   },
   "file_extension": ".py",
   "mimetype": "text/x-python",
   "name": "python",
   "nbconvert_exporter": "python",
   "pygments_lexer": "ipython3",
   "version": "3.11.5"
  },
  "orig_nbformat": 4,
  "vscode": {
   "interpreter": {
    "hash": "d636676c15b57c8ff4134061dc082daa08ad205e6a52a579b3fc3ba25afbc702"
   }
  }
 },
 "nbformat": 4,
 "nbformat_minor": 2
}
